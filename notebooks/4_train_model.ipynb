{
 "cells": [
  {
   "cell_type": "code",
   "execution_count": null,
   "metadata": {
    "vscode": {
     "languageId": "plaintext"
    }
   },
   "outputs": [],
   "source": [
    "# Databricks Notebook: 4_train_model.ipynb\n",
    "# Train a Logistic Regression Model\n",
    "from pyspark.ml.classification import LogisticRegression\n",
    "\n",
    "df_train = spark.read.format(\"delta\").load(\"/mnt/delta/features/\")\n",
    "\n",
    "lr = LogisticRegression(featuresCol=\"features\", labelCol=\"label\")\n",
    "model = lr.fit(df_train)\n",
    "\n",
    "model.write().overwrite().save(\"/mnt/models/latest_model\")\n",
    "print(\"Model training completed.\")"
   ]
  }
 ],
 "metadata": {
  "language_info": {
   "name": "python"
  }
 },
 "nbformat": 4,
 "nbformat_minor": 2
}
