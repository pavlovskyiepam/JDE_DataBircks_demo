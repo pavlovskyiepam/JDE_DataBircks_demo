{
 "cells": [
  {
   "cell_type": "code",
   "execution_count": null,
   "metadata": {
    "vscode": {
     "languageId": "plaintext"
    }
   },
   "outputs": [],
   "source": [
    "# Databricks Notebook: 1_ingest_bronze.ipynb\n",
    "# Ingest raw data into the Bronze layer\n",
    "from pyspark.sql import SparkSession\n",
    "\n",
    "spark = SparkSession.builder.appName(\"BronzeLayerIngestion\").getOrCreate()\n",
    "\n",
    "# Load raw data from an external source\n",
    "df_raw = spark.read.format(\"json\").load(\"/mnt/raw_data/input.json\")\n",
    "\n",
    "df_raw.write.format(\"delta\").mode(\"append\").save(\"/mnt/delta/bronze/raw_data\")\n",
    "print(\"Data ingested into Bronze layer.\")"
   ]
  }
 ],
 "metadata": {
  "language_info": {
   "name": "python"
  }
 },
 "nbformat": 4,
 "nbformat_minor": 2
}
