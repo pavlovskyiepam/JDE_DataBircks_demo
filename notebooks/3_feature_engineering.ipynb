{
 "cells": [
  {
   "cell_type": "code",
   "execution_count": null,
   "metadata": {
    "vscode": {
     "languageId": "plaintext"
    }
   },
   "outputs": [],
   "source": [
    "# Databricks Notebook: 3_feature_engineering.ipynb\n",
    "# Extract ML features from the Gold layer\n",
    "from pyspark.ml.feature import VectorAssembler\n",
    "\n",
    "df_gold = spark.read.format(\"delta\").load(\"/mnt/delta/gold/aggregated_data\")\n",
    "\n",
    "assembler = VectorAssembler(inputCols=[\"count\"], outputCol=\"features\")\n",
    "df_features = assembler.transform(df_gold)\n",
    "\n",
    "df_features.write.format(\"delta\").mode(\"overwrite\").save(\"/mnt/delta/features/\")\n",
    "print(\"Feature engineering completed.\")"
   ]
  }
 ],
 "metadata": {
  "language_info": {
   "name": "python"
  }
 },
 "nbformat": 4,
 "nbformat_minor": 2
}
