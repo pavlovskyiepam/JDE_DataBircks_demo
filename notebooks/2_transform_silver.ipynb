{
 "cells": [
  {
   "cell_type": "code",
   "execution_count": null,
   "metadata": {
    "vscode": {
     "languageId": "plaintext"
    }
   },
   "outputs": [],
   "source": [
    "# Databricks Notebook: 2_transform_silver.ipynb\n",
    "# Clean and transform data into the Silver layer\n",
    "df_bronze = spark.read.format(\"delta\").load(\"/mnt/delta/bronze/raw_data\")\n",
    "\n",
    "df_silver = df_bronze.dropDuplicates().filter(df_bronze[\"status\"] == \"active\")\n",
    "\n",
    "df_silver.write.format(\"delta\").mode(\"overwrite\").save(\"/mnt/delta/silver/processed_data\")\n",
    "print(\"Data transformed into Silver layer.\")"
   ]
  }
 ],
 "metadata": {
  "language_info": {
   "name": "python"
  }
 },
 "nbformat": 4,
 "nbformat_minor": 2
}
