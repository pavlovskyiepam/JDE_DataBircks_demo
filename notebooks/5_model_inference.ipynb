{
 "cells": [
  {
   "cell_type": "code",
   "execution_count": null,
   "metadata": {
    "vscode": {
     "languageId": "plaintext"
    }
   },
   "outputs": [],
   "source": [
    "# Databricks Notebook: 5_model_inference.ipynb\n",
    "# Load the trained model and make predictions\n",
    "from pyspark.ml.classification import LogisticRegressionModel\n",
    "\n",
    "df_test = spark.read.format(\"delta\").load(\"/mnt/delta/features/\")\n",
    "\n",
    "model = LogisticRegressionModel.load(\"/mnt/models/latest_model\")\n",
    "predictions = model.transform(df_test)\n",
    "\n",
    "predictions.show()"
   ]
  }
 ],
 "metadata": {
  "language_info": {
   "name": "python"
  }
 },
 "nbformat": 4,
 "nbformat_minor": 2
}
